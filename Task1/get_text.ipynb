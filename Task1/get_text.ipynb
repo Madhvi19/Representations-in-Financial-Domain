{
 "metadata": {
  "language_info": {
   "codemirror_mode": {
    "name": "ipython",
    "version": 3
   },
   "file_extension": ".py",
   "mimetype": "text/x-python",
   "name": "python",
   "nbconvert_exporter": "python",
   "pygments_lexer": "ipython3",
   "version": "3.8.3-final"
  },
  "orig_nbformat": 2,
  "kernelspec": {
   "name": "python3",
   "display_name": "Python 3"
  }
 },
 "nbformat": 4,
 "nbformat_minor": 2,
 "cells": [
  {
   "cell_type": "code",
   "execution_count": 1,
   "metadata": {},
   "outputs": [],
   "source": [
    "#Imports\n",
    "import pickle\n",
    "import pandas as pd\n",
    "import os\n",
    "import re"
   ]
  },
  {
   "cell_type": "code",
   "execution_count": 109,
   "metadata": {},
   "outputs": [],
   "source": [
    "#file and directory paths stored as global variables. \n",
    "sample_dir_path = r\"D:\\College\\Study\\IRE\\Project\\data\\10k sample\"\n",
    "dir_path = r\"D:\\College\\Study\\IRE\\Project\\data\\10k\"\n",
    "dataframe_path = r\"D:\\College\\Study\\IRE\\Project\\data\\df_10k_1900_org.pkl\"\n",
    "pickle_dump_path = r\"D:\\College\\Study\\IRE\\Project\\data\\Task 1\\dataframe.pickle\"\n",
    "i=0"
   ]
  },
  {
   "cell_type": "code",
   "execution_count": 3,
   "metadata": {},
   "outputs": [],
   "source": [
    "dataframe = pickle.load(open(dataframe_path, 'rb'))"
   ]
  },
  {
   "cell_type": "code",
   "execution_count": 104,
   "metadata": {},
   "outputs": [],
   "source": [
    "def extract_business_text(file_name):\n",
    "    #This method extracts the Item 1 Business section from file(argument 1) by applying regex\n",
    "    global i\n",
    "    i = i + 1\n",
    "    if(not i%1000):\n",
    "        print(i)\n",
    "    file_name = re.sub('/media/ssd/vivek.a/10k/10k_1900_org/', '', file_name)\n",
    "    file_path = dir_path + \"\\\\\" + file_name\n",
    "    #print(file_name)\n",
    "    if(file_name in os.listdir(dir_path)):\n",
    "        f = open(file_path)\n",
    "        text = f.read()\n",
    "        matches = list(re.finditer(r'(Item|ITEM)\\s*[0-9]+[A-Z]*\\.', text))\n",
    "        #print(len(matches))\n",
    "        #print(matches)\n",
    "        if(len(matches)):\n",
    "            start_index_list = [i for i in range(len(matches))if re.match(r'(Item|ITEM)\\s*1\\.', matches[i][0])]\n",
    "            if(len(start_index_list)):\n",
    "                if len(start_index_list) >= 2:\n",
    "                    start_index = start_index_list[1]\n",
    "                else:\n",
    "                    start_index = start_index_list[0]\n",
    "                end_index = start_index + 1\n",
    "                #print(start_index, end_index)\n",
    "                #print(matches[start_index], matches[end_index])\n",
    "                start = matches[start_index].span()[1]\n",
    "                if(end_index >= len(matches)):\n",
    "                    end = -1    \n",
    "                else:    \n",
    "                    end = matches[end_index].span()[0]\n",
    "                #print(start, end)\n",
    "                text = text[start:end]\n",
    "            else:\n",
    "                text = \"No Business text found\"\n",
    "        else:\n",
    "            text = \"No text found\"\n",
    "        f.close()\n",
    "    else:\n",
    "        text = \"File not in directory\"\n",
    "    return text"
   ]
  },
  {
   "cell_type": "code",
   "execution_count": 105,
   "metadata": {},
   "outputs": [
    {
     "output_type": "stream",
     "name": "stdout",
     "text": [
      "1000\n",
      "2000\n",
      "3000\n",
      "4000\n",
      "5000\n",
      "6000\n",
      "7000\n",
      "8000\n",
      "9000\n",
      "10000\n",
      "11000\n",
      "12000\n",
      "13000\n",
      "14000\n",
      "15000\n",
      "16000\n",
      "17000\n",
      "18000\n",
      "19000\n",
      "20000\n",
      "21000\n",
      "22000\n",
      "23000\n",
      "24000\n",
      "25000\n",
      "26000\n",
      "27000\n",
      "28000\n",
      "29000\n",
      "30000\n",
      "31000\n",
      "32000\n",
      "33000\n"
     ]
    }
   ],
   "source": [
    "dataframe['text'] = dataframe['f_path'].apply(extract_business_text)    "
   ]
  },
  {
   "cell_type": "code",
   "execution_count": 107,
   "metadata": {},
   "outputs": [],
   "source": [
    "dataframe = dataframe.drop(['f_path'], axis=1)"
   ]
  },
  {
   "cell_type": "code",
   "execution_count": 110,
   "metadata": {},
   "outputs": [],
   "source": [
    "pickle.dump(dataframe, open(pickle_dump_path, 'wb'))"
   ]
  },
  {
   "cell_type": "code",
   "execution_count": 114,
   "metadata": {},
   "outputs": [],
   "source": [
    "#No text found: 1335 rows\n",
    "#No Business text found: 3836 rows"
   ]
  },
  {
   "cell_type": "code",
   "execution_count": null,
   "metadata": {},
   "outputs": [],
   "source": []
  }
 ]
}